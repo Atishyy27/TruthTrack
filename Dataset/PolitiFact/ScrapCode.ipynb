{
 "cells": [
  {
   "cell_type": "code",
   "execution_count": null,
   "metadata": {},
   "outputs": [],
   "source": [
    "#Program scrapping FAKE and REAL news data from POLITIFACT.com and use as Dataset. "
   ]
  },
  {
   "cell_type": "code",
   "execution_count": 1,
   "metadata": {},
   "outputs": [],
   "source": [
    "from bs4 import BeautifulSoup\n",
    "import pandas as pd\n",
    "import requests\n",
    "import urllib.request\n",
    "import time"
   ]
  },
  {
   "cell_type": "code",
   "execution_count": null,
   "metadata": {},
   "outputs": [],
   "source": [
    "\n",
    "authors = []\n",
    "dates = []\n",
    "statements = []\n",
    "source = []\n",
    "targets = []"
   ]
  },
  {
   "cell_type": "code",
   "execution_count": 4,
   "metadata": {},
   "outputs": [],
   "source": [
    "def scrape_website(page_number):\n",
    "    page_num = str(page_number)\n",
    "    URL = 'https://www.politifact.com/factchecks/list/?page='+page_num\n",
    "    webpage = requests.get(URL)\n",
    "    soup = BeautifulSoup(webpage.text, 'html.parser')\n",
    "\n",
    "    statement_footer = soup.find_all('footer', attrs={'class':'m-statement__footer'})\n",
    "    statement_quote = soup.find_all('div', attrs= {'class': 'm-statement__quote'})\n",
    "    statement_meta = soup.find_all('div', attrs={'class': 'm-statement__meta'}) \n",
    "    target = soup.find_all('div', attrs={'class':'m-statement__meter'})"
   ]
  }
 ],
 "metadata": {
  "kernelspec": {
   "display_name": "Python 3",
   "language": "python",
   "name": "python3"
  },
  "language_info": {
   "codemirror_mode": {
    "name": "ipython",
    "version": 3
   },
   "file_extension": ".py",
   "mimetype": "text/x-python",
   "name": "python",
   "nbconvert_exporter": "python",
   "pygments_lexer": "ipython3",
   "version": "3.12.1"
  }
 },
 "nbformat": 4,
 "nbformat_minor": 2
}
